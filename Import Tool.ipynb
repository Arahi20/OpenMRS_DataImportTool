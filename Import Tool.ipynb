{
 "cells": [
  {
   "cell_type": "markdown",
   "id": "c68d162c",
   "metadata": {},
   "source": [
    "OpenMRS CSV Patient Importer\n",
    "\n",
    "A Python script for importing patient data from a CSV file into OpenMRS using its REST API.\n",
    "\n",
    "This Requires Request API module to be installed and to have the URL,Username and Password"
   ]
  },
  {
   "cell_type": "code",
   "execution_count": 7,
   "id": "5b354f32",
   "metadata": {},
   "outputs": [],
   "source": [
    "import csv\n",
    "import requests\n",
    "import os"
   ]
  },
  {
   "cell_type": "code",
   "execution_count": null,
   "id": "b32e7e8f",
   "metadata": {},
   "outputs": [],
   "source": [
    "api_url = \"your_url\"\n",
    "username = 'your_username'\n",
    "password = 'your_password'"
   ]
  },
  {
   "cell_type": "code",
   "execution_count": null,
   "id": "31e6f3b8",
   "metadata": {},
   "outputs": [],
   "source": [
    "#First we must handle reading the csv file \n",
    "\n",
    "def import_patients(csv_file_path):\n",
    "    with open(csv_file_path, newline='') as csvfile:\n",
    "        reader = csv.DictReader(csvfile)\n",
    "        for row in reader:\n",
    "            create_patient(row)"
   ]
  },
  {
   "cell_type": "code",
   "execution_count": null,
   "id": "77650e44",
   "metadata": {},
   "outputs": [],
   "source": [
    "#We must create a patient within openmrs Refer to this documentation : https://openmrs.atlassian.net/wiki/spaces/docs/pages/25490577/Create+Patient\n",
    "\n",
    "def create_patient(patient_data):\n",
    "    headers = {'Content-Type': 'application/json'}\n",
    "    # Patient payload based on OpenMRS API requirements\n",
    "    data = {\n",
    "        \"person\": {\n",
    "            \"names\": [\n",
    "                {\n",
    "                    \"givenName\": patient_data['given_name'],\n",
    "                    \"familyName\": patient_data['family_name']\n",
    "                }\n",
    "            ],\n",
    "            \"gender\": patient_data['gender'],\n",
    "            \"birthdate\": patient_data['birthdate'],\n",
    "            \"birthdateEstimated\": False\n",
    "        }\n",
    "    }\n",
    "    response = requests.post(f\"{api_url}/patient\", json=data, auth=(username, password), headers=headers)\n",
    "    if response.status_code == 201:\n",
    "        print(f\"Patient {patient_data['given_name']} {patient_data['family_name']} created successfully.\")\n",
    "    else:\n",
    "        print(f\"Failed to create patient: {response.content}\")"
   ]
  },
  {
   "cell_type": "code",
   "execution_count": null,
   "id": "eb7efc48",
   "metadata": {},
   "outputs": [],
   "source": [
    "import_patients('patients.csv')"
   ]
  },
  {
   "cell_type": "markdown",
   "id": "3b87ef15",
   "metadata": {},
   "source": [
    "This tool expects the data in this format : given_name,family_name,gender,birthdate \n",
    "We can adjust this as we see fit depending on which syntethic fields we wish to generate"
   ]
  }
 ],
 "metadata": {
  "kernelspec": {
   "display_name": "Python 3 (ipykernel)",
   "language": "python",
   "name": "python3"
  },
  "language_info": {
   "codemirror_mode": {
    "name": "ipython",
    "version": 3
   },
   "file_extension": ".py",
   "mimetype": "text/x-python",
   "name": "python",
   "nbconvert_exporter": "python",
   "pygments_lexer": "ipython3",
   "version": "3.11.5"
  }
 },
 "nbformat": 4,
 "nbformat_minor": 5
}
