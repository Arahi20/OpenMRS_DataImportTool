{
 "cells": [
  {
   "cell_type": "code",
   "execution_count": 34,
   "id": "a24f21af",
   "metadata": {},
   "outputs": [],
   "source": [
    "import requests\n",
    "from requests.auth import HTTPBasicAuth\n",
    "\n",
    "#Test enviroment Offline most the time no security risk, no data stored either\n",
    "\n",
    "base_url = \"http://20.254.67.233:8080/openmrs/ws/rest/v1\"\n",
    "username = \"admin\"\n",
    "password = 'Macbookpro15\"'\n"
   ]
  },
  {
   "cell_type": "code",
   "execution_count": 35,
   "id": "033c430f",
   "metadata": {},
   "outputs": [],
   "source": [
    "def get_session():\n",
    "    url = f\"{base_url}/session\"\n",
    "    response = requests.get(url, auth=HTTPBasicAuth(username, password))\n",
    "    if response.status_code == 200:\n",
    "        session_details = response.json()\n",
    "        if session_details['authenticated']:\n",
    "            print(\"Successfully authenticated!\")\n",
    "        else:\n",
    "            print(\"Failed to authenticate. Please check your username and password.\")\n",
    "        print(\"Session Details:\", session_details)\n",
    "    else:\n",
    "        print(\"Failed to get session:\", response.status_code)\n",
    "        print(\"Response:\", response.text)\n"
   ]
  },
  {
   "cell_type": "code",
   "execution_count": 36,
   "id": "1b0a37ef",
   "metadata": {},
   "outputs": [],
   "source": [
    "\n",
    "def create_patient():\n",
    "    url = f\"{base_url}/patient\"\n",
    "    headers = {\"Content-Type\": \"application/json\"}\n",
    "    patient_data = {\n",
    "        \"person\": {\n",
    "            \"names\": [{\n",
    "                \"givenName\": \"John\",\n",
    "                \"familyName\": \"Doe\"\n",
    "            }],\n",
    "            \"gender\": \"M\",\n",
    "            \"birthdate\": \"1985-01-01\"\n",
    "        },\n",
    "        \"identifiers\": [{\n",
    "            \"identifier\": \"12345\",\n",
    "            \"identifierType\": \"8d79403a-c2cc-11de-8d13-0010c6dffd0f\",  # Replace with your identifier type UUID\n",
    "            \"location\": \"8d6c993e-c2cc-11de-8d13-0010c6dffd0f\",  # Replace with your location UUID\n",
    "            \"preferred\": True\n",
    "        }]\n",
    "    }\n",
    "    response = requests.post(url, json=patient_data, headers=headers, auth=HTTPBasicAuth(username, password))\n",
    "    if response.status_code == 201:\n",
    "        patient_uuid = response.json()['uuid']\n",
    "        print(\"Patient created with UUID:\", patient_uuid)\n",
    "        return patient_uuid\n",
    "    else:\n",
    "        print(\"Failed to create patient:\", response.status_code)\n",
    "        print(\"Response:\", response.json())\n"
   ]
  },
  {
   "cell_type": "code",
   "execution_count": 37,
   "id": "18ae7804",
   "metadata": {},
   "outputs": [
    {
     "name": "stdout",
     "output_type": "stream",
     "text": [
      "Successfully authenticated!\n",
      "Session Details: {'sessionId': '4A4094570F5251DE1FC72798B1E28338', 'authenticated': True, 'user': {'uuid': '82f18b44-6814-11e8-923f-e9a88dcb533f', 'display': 'admin', 'username': '', 'systemId': 'admin', 'userProperties': {'loginAttempts': '0'}, 'person': {'uuid': '5f87c042-6814-11e8-923f-e9a88dcb533f'}, 'privileges': [{'uuid': '5f8a3aa2-6814-11e8-923f-e9a88dcb533f', 'name': 'View Encounters'}, {'uuid': '5f8a3cfa-6814-11e8-923f-e9a88dcb533f', 'name': 'View Patients'}, {'uuid': '5f8a3be2-6814-11e8-923f-e9a88dcb533f', 'name': 'View Observations'}, {'uuid': '5f8a3d2c-6814-11e8-923f-e9a88dcb533f', 'name': 'View People'}, {'uuid': '5f8a3db8-6814-11e8-923f-e9a88dcb533f', 'name': 'View Problems'}, {'uuid': '5f8a3a16-6814-11e8-923f-e9a88dcb533f', 'name': 'View Concepts'}, {'uuid': '5f8a3ca0-6814-11e8-923f-e9a88dcb533f', 'name': 'View Patient Identifiers'}, {'uuid': '5f8a382c-6814-11e8-923f-e9a88dcb533f', 'name': 'View Allergies'}], 'roles': [{'uuid': '8d94f852-c2cc-11de-8d13-0010c6dffd0f', 'name': 'System Developer'}, {'uuid': '8d94f280-c2cc-11de-8d13-0010c6dffd0f', 'name': 'Provider'}]}, 'locale': 'en_GB', 'allowedLocales': ['en', 'en_GB'], 'sessionLocation': None}\n",
      "Patient created with UUID: df2e3823-3707-46ad-b4e5-79a4f957612d\n"
     ]
    }
   ],
   "source": [
    "if __name__ == \"__main__\":\n",
    "    get_session()\n",
    "    create_patient()\n"
   ]
  }
 ],
 "metadata": {
  "kernelspec": {
   "display_name": "Python 3 (ipykernel)",
   "language": "python",
   "name": "python3"
  },
  "language_info": {
   "codemirror_mode": {
    "name": "ipython",
    "version": 3
   },
   "file_extension": ".py",
   "mimetype": "text/x-python",
   "name": "python",
   "nbconvert_exporter": "python",
   "pygments_lexer": "ipython3",
   "version": "3.11.5"
  }
 },
 "nbformat": 4,
 "nbformat_minor": 5
}
